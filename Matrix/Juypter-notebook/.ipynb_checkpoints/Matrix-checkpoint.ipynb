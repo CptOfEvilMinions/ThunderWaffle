{
 "cells": [
  {
   "cell_type": "code",
   "execution_count": 81,
   "metadata": {},
   "outputs": [
    {
     "name": "stdout",
     "output_type": "stream",
     "text": [
      "|Recon and Weaponization|Delivery|  initial access   | command and control |lateral movement|Actions on objective|     masquerade     |Evasion|DOS|\n",
      "|-----------------------|--------|-------------------|---------------------|----------------|--------------------|--------------------|-------|---|\n",
      "|                       |        |zero_day_exploit.md|remote_admin_tools.md|winrm.md        |                    |custom_encryption.md|       |   |\n",
      "|                       |        |                   |common_protcols.md   |SMB             |                    |                    |       |   |\n",
      "|                       |        |                   |                     |WMI             |                    |                    |       |   |\n",
      "|                       |        |                   |                     |DCOM            |                    |                    |       |   |\n"
     ]
    }
   ],
   "source": [
    "import pandas as pd\n",
    "import json\n",
    "from tabulate import tabulate\n",
    "from IPython.core.display import display, HTML\n",
    "import pytablewriter\n",
    "\n",
    "#with open('matrix_table.json') as f:\n",
    "#    data = json.load(f)\n",
    "\n",
    "df = pd.DataFrame.from_dict(data, orient='index')\n",
    "#temp = df.transpose().to_html()\n",
    "#display(HTML(temp))\n",
    "\n",
    "writer = pytablewriter.MarkdownTableWriter()\n",
    "writer.from_dataframe(df.transpose())\n",
    "writer.write_table()"
   ]
  },
  {
   "cell_type": "markdown",
   "metadata": {},
   "source": [
    "|Recon and Weaponization|Delivery|  initial access   | command and control |lateral movement|Actions on objective|     masquerade     |Evasion|DOS|\n",
    "|-----------------------|--------|-------------------|---------------------|----------------|--------------------|--------------------|-------|---|\n",
    "|                       |        |zero_day_exploit.md|remote_admin_tools.md|winrm.md        |                    |custom_encryption.md|       |   |\n",
    "|                       |        |                   |common_protcols.md   |SMB             |                    |                    |       |   |\n",
    "|                       |        |                   |                     |WMI             |                    |                    |       |   |\n",
    "|                       |        |                   |                     |DCOM            |                    |                    |       |   |\n"
   ]
  },
  {
   "cell_type": "code",
   "execution_count": 105,
   "metadata": {},
   "outputs": [
    {
     "name": "stdout",
     "output_type": "stream",
     "text": [
      "command_n_control.md\n",
      "template.md\n",
      "recon_weapon.md\n",
      "initial_access.md\n",
      "masquerade.md\n",
      "actions_on_objective.md\n",
      "dos.md\n",
      "delivery.md\n",
      "evasion.md\n",
      "lateral_movement.md\n"
     ]
    }
   ],
   "source": [
    "import os\n",
    "\n",
    "attack_themes = dict()\n",
    "path = \"./themes\"\n",
    "filenames= os.listdir (path) # get all files' and folders' names in the current directory\n",
    "\n",
    "columns = \"|\"\n",
    "for filename in filenames: # loop through all the files and folders\n",
    "    if not os.path.isdir(os.path.join(os.path.abspath(path), filename)): # check whether the current object is a folder or not\n",
    "        print (filename)\n",
    "        \n"
   ]
  },
  {
   "cell_type": "code",
   "execution_count": null,
   "metadata": {},
   "outputs": [],
   "source": []
  }
 ],
 "metadata": {
  "kernelspec": {
   "display_name": "Python 3",
   "language": "python",
   "name": "python3"
  },
  "language_info": {
   "codemirror_mode": {
    "name": "ipython",
    "version": 3
   },
   "file_extension": ".py",
   "mimetype": "text/x-python",
   "name": "python",
   "nbconvert_exporter": "python",
   "pygments_lexer": "ipython3",
   "version": "3.7.0"
  }
 },
 "nbformat": 4,
 "nbformat_minor": 2
}
